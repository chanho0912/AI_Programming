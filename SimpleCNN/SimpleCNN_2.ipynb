{
 "cells": [
  {
   "cell_type": "markdown",
   "metadata": {},
   "source": [
    "- For those who are not familiar with pytorch, <br>\n",
    "    try `pytorch_tutorial.ipynb` in advance of HW4_2"
   ]
  },
  {
   "cell_type": "markdown",
   "metadata": {},
   "source": [
    "# Neural Network (pytorch) : CIFAR-100\n",
    "\n",
    "- CIFAR-100 has 100 classes containing 600 32x32 colour images each. \n",
    "- The 100 classes in the CIFAR-100 are grouped into 20 superclasses.\n",
    "- There are 500 training images and 100 testing images per class."
   ]
  },
  {
   "cell_type": "code",
   "execution_count": null,
   "metadata": {},
   "outputs": [],
   "source": [
    "import torch.nn as nn\n",
    "import torch.optim as optim\n",
    "import torch.backends.cudnn as cudnn\n",
    "\n",
    "from utils import *\n",
    "from YourAnswer import simple_CNN, deep_CNN"
   ]
  },
  {
   "cell_type": "markdown",
   "metadata": {},
   "source": [
    "## Random Seed\n",
    "- Fix the seed to constraint the randomness and reproduce the results\n",
    "- np.random, CUDNN, CUDA seed"
   ]
  },
  {
   "cell_type": "code",
   "execution_count": null,
   "metadata": {},
   "outputs": [],
   "source": [
    "seed = 0\n",
    "np.random.seed(seed)\n",
    "torch.manual_seed(seed)\n",
    "if torch.cuda.is_available():\n",
    "    torch.cuda.manual_seed(seed)\n",
    "torch.backends.cudnn.benchmark = False\n",
    "torch.backends.cudnn.deterministic = True"
   ]
  },
  {
   "cell_type": "markdown",
   "metadata": {},
   "source": [
    "## Data Preprocessing\n",
    "\n",
    "- Load the CIFAR-100 dataset\n",
    "- data is loaded by the size of batch"
   ]
  },
  {
   "cell_type": "code",
   "execution_count": null,
   "metadata": {},
   "outputs": [],
   "source": [
    "# data loader\n",
    "batch_size = 32\n",
    "trainloader, testloader, classes = dataloader('CIFAR100', batch_size)\n",
    "num_classes = len(classes)"
   ]
  },
  {
   "cell_type": "markdown",
   "metadata": {},
   "source": [
    "## Visualize training images\n",
    "- Check what the data looks like"
   ]
  },
  {
   "cell_type": "code",
   "execution_count": null,
   "metadata": {},
   "outputs": [],
   "source": [
    "sample = iter(trainloader)\n",
    "sample_image, sample_label = sample.next()\n",
    "\n",
    "imshow(torchvision.utils.make_grid(sample_image,8))"
   ]
  },
  {
   "cell_type": "code",
   "execution_count": null,
   "metadata": {},
   "outputs": [],
   "source": [
    "device = 'cuda' if torch.cuda.is_available() else 'cpu'"
   ]
  },
  {
   "cell_type": "markdown",
   "metadata": {},
   "source": [
    "### To do:\n",
    "- Implement `simple_CNN` in `YourAnswer.py` file <br> \n",
    "- Feature extraction is given\n",
    "- You need to fill the Classifier"
   ]
  },
  {
   "cell_type": "code",
   "execution_count": null,
   "metadata": {},
   "outputs": [],
   "source": [
    "net = simple_CNN(num_classes)\n",
    "net.to(device)"
   ]
  },
  {
   "cell_type": "markdown",
   "metadata": {},
   "source": [
    "## Set the loss and optimizer\n",
    "loss : Cross Entropy Loss <br>\n",
    "optimizer : Stochastic Gradient Descent"
   ]
  },
  {
   "cell_type": "code",
   "execution_count": null,
   "metadata": {},
   "outputs": [],
   "source": [
    "criterion = nn.CrossEntropyLoss()\n",
    "optimizer = optim.SGD(net.parameters(), lr=0.01, momentum=0.9, weight_decay=5e-4)"
   ]
  },
  {
   "cell_type": "markdown",
   "metadata": {},
   "source": [
    "## Initialize the loss and accuracy"
   ]
  },
  {
   "cell_type": "code",
   "execution_count": null,
   "metadata": {},
   "outputs": [],
   "source": [
    "epochs = 20\n",
    "\n",
    "global trn_loss \n",
    "global tst_loss \n",
    "global trn_acc\n",
    "global tst_acc\n",
    "\n",
    "trn_loss = torch.zeros(epochs)\n",
    "tst_loss= torch.zeros(epochs)\n",
    "trn_acc = torch.zeros(epochs)\n",
    "tst_acc = torch.zeros(epochs)"
   ]
  },
  {
   "cell_type": "markdown",
   "metadata": {},
   "source": [
    "## Train \n",
    "- Send the images and labels to the devices for the computation using GPU\n",
    "- Need to empty the gradients using the zero_grad() at first\n",
    "- Compute the loss and update the weights using the optimizer\n"
   ]
  },
  {
   "cell_type": "code",
   "execution_count": null,
   "metadata": {},
   "outputs": [],
   "source": [
    "def train(epoch):\n",
    "    print('\\nEpoch: %d' % epoch)\n",
    "    net.train()\n",
    "    train_loss = 0\n",
    "    correct = 0\n",
    "    total = 0\n",
    "    for batch_idx, (images, labels) in enumerate(trainloader):\n",
    "\n",
    "        images = images.to(device)\n",
    "        labels = labels.to(device)\n",
    "\n",
    "        optimizer.zero_grad()\n",
    "        outputs = net(images)\n",
    "        loss = criterion(outputs, labels)\n",
    "        loss.backward()\n",
    "        optimizer.step()\n",
    "\n",
    "        train_loss += loss.item()\n",
    "        \n",
    "        _, predicted = outputs.max(1)\n",
    "        total += labels.size(0)\n",
    "        correct += predicted.eq(labels).sum().item()\n",
    "\n",
    "        progress_bar(batch_idx, len(trainloader), 'Loss: %.3f | Acc: %.3f%% (%d/%d)' % (train_loss/(batch_idx+1), 100.*correct/total, correct, total))\n",
    "\n",
    "    trn_loss[epoch] = train_loss/(batch_idx+1)\n",
    "    trn_acc[epoch] = 100.*correct/total"
   ]
  },
  {
   "cell_type": "markdown",
   "metadata": {},
   "source": [
    "## Test\n",
    "- Model should be set to eval() mode\n",
    "- Model should not be updated during the test : no_grad() is needed\n",
    "- Best accuracy and model are selected according to the test accuracy"
   ]
  },
  {
   "cell_type": "code",
   "execution_count": null,
   "metadata": {},
   "outputs": [],
   "source": [
    "def test(epoch):\n",
    "    global best_acc\n",
    "    global best_net\n",
    "    net.eval()\n",
    "    test_loss = 0\n",
    "    correct = 0\n",
    "    total = 0\n",
    "    with torch.no_grad():\n",
    "        for batch_idx, (images, labels) in enumerate(testloader):\n",
    "\n",
    "\n",
    "            images = images.to(device)\n",
    "            labels = labels.to(device)\n",
    "\n",
    "            outputs = net(images)\n",
    "            \n",
    "            loss = criterion(outputs, labels)\n",
    "\n",
    "            test_loss += loss.item()\n",
    "            _, predicted = outputs.max(1)\n",
    "            total += labels.size(0)\n",
    "            correct += predicted.eq(labels).sum().item()\n",
    "\n",
    "            progress_bar(batch_idx, len(testloader), 'Test Loss: %.3f | Test Acc: %.3f%% (%d/%d)' % (test_loss/(batch_idx+1), 100.*correct/total, correct, total))\n",
    "\n",
    "    acc = 100.*correct/total\n",
    "    if acc > best_acc:\n",
    "        best_acc = acc\n",
    "        best_net = net\n",
    "        \n",
    "    tst_loss[epoch] = test_loss/(batch_idx+1)\n",
    "    tst_acc[epoch] = acc\n"
   ]
  },
  {
   "cell_type": "markdown",
   "metadata": {},
   "source": [
    "- Machine starts learning"
   ]
  },
  {
   "cell_type": "code",
   "execution_count": null,
   "metadata": {},
   "outputs": [],
   "source": [
    "start = time.time()\n",
    "best_acc = 0  # best test accuracy\n",
    "start_epoch = 0  # start from epoch 0 \n",
    "\n",
    "for epoch in range(start_epoch, start_epoch+epochs):\n",
    "    train(epoch)\n",
    "    test(epoch)\n",
    "\n",
    "#Time Calculation\n",
    "finish = time.time() - start\n",
    "temp_log = \"\\nTime Elapse: %s\" %(format_time(finish))\n",
    "print(temp_log)\n"
   ]
  },
  {
   "cell_type": "code",
   "execution_count": null,
   "metadata": {},
   "outputs": [],
   "source": [
    "loss_and_acc(trn_acc, trn_loss, 'Train', epochs)"
   ]
  },
  {
   "cell_type": "code",
   "execution_count": null,
   "metadata": {},
   "outputs": [],
   "source": [
    "loss_and_acc(tst_acc, tst_loss, 'Test', epochs)"
   ]
  },
  {
   "cell_type": "code",
   "execution_count": null,
   "metadata": {},
   "outputs": [],
   "source": [
    "print('The best test accuracy : %d' %best_acc, '% at epoch', torch.argmax(tst_acc).item())"
   ]
  },
  {
   "cell_type": "code",
   "execution_count": null,
   "metadata": {},
   "outputs": [],
   "source": [
    "print('Saving the best model..')\n",
    "savePath = \"./CIFAR100_simple.pth\" \n",
    "torch.save(best_net.state_dict(), savePath)"
   ]
  },
  {
   "cell_type": "markdown",
   "metadata": {},
   "source": [
    "### To do:\n",
    "- Implement `deep_CNN` in `YourAnswer.py` file <br> \n",
    "\n",
    "- You have two choices. __<br>1. Build any model as you wish <br>2. Follow the instruction in `YourAnswer.py` file__\n",
    "\n",
    "- Whatever your choice, score would be the same as long as the model achieves more than $\\Large60\\%$  test accuracy  \n",
    "\n",
    "- The epoch should be no more than $\\Large40 $ (You can change the epoch if you want, but the max epoch is 40)\n",
    "\n",
    "- Do __NOT__ change the code below : <br>\n",
    "    net = deep_CNN(num_classes)"
   ]
  },
  {
   "cell_type": "code",
   "execution_count": null,
   "metadata": {},
   "outputs": [],
   "source": [
    "net = deep_CNN(num_classes)\n",
    "net.to(device)\n",
    "\n",
    "criterion = nn.CrossEntropyLoss()\n",
    "optimizer = optim.SGD(net.parameters(), lr=0.01, momentum=0.9, weight_decay=5e-4)\n",
    "\n",
    "epochs = 40\n",
    "\n",
    "global trn_loss \n",
    "global tst_loss \n",
    "global trn_acc\n",
    "global tst_acc\n",
    "\n",
    "trn_loss = torch.zeros(epochs)\n",
    "tst_loss= torch.zeros(epochs)\n",
    "trn_acc = torch.zeros(epochs)\n",
    "tst_acc = torch.zeros(epochs)\n"
   ]
  },
  {
   "cell_type": "code",
   "execution_count": null,
   "metadata": {},
   "outputs": [],
   "source": [
    "start = time.time()\n",
    "best_acc = 0  # best test accuracy\n",
    "start_epoch = 0  # start from epoch 0 or last checkpoint epoch\n",
    "\n",
    "for epoch in range(start_epoch, start_epoch+epochs):\n",
    "    train(epoch)\n",
    "    test(epoch)\n",
    "\n",
    "#Time Calculation\n",
    "finish = time.time() - start\n",
    "temp_log = \"\\nTime Elapse: %s\" %(format_time(finish))\n",
    "print(temp_log)\n"
   ]
  },
  {
   "cell_type": "code",
   "execution_count": null,
   "metadata": {},
   "outputs": [],
   "source": [
    "loss_and_acc(trn_acc, trn_loss, 'Train', epochs)"
   ]
  },
  {
   "cell_type": "code",
   "execution_count": null,
   "metadata": {},
   "outputs": [],
   "source": [
    "loss_and_acc(tst_acc, tst_loss, 'Test',epochs)"
   ]
  },
  {
   "cell_type": "code",
   "execution_count": null,
   "metadata": {},
   "outputs": [],
   "source": [
    "print('The best test accuracy : %d' %best_acc, '% at epoch', torch.argmax(tst_acc).item())"
   ]
  },
  {
   "cell_type": "code",
   "execution_count": null,
   "metadata": {},
   "outputs": [],
   "source": [
    "print('Saving the best model..')\n",
    "savePath = \"./CIFAR100_deep.pth\" \n",
    "torch.save(best_net.state_dict(), savePath)"
   ]
  },
  {
   "cell_type": "code",
   "execution_count": null,
   "metadata": {},
   "outputs": [],
   "source": []
  }
 ],
 "metadata": {
  "kernelspec": {
   "display_name": "Python 3",
   "language": "python",
   "name": "python3"
  },
  "language_info": {
   "codemirror_mode": {
    "name": "ipython",
    "version": 3
   },
   "file_extension": ".py",
   "mimetype": "text/x-python",
   "name": "python",
   "nbconvert_exporter": "python",
   "pygments_lexer": "ipython3",
   "version": "3.6.10"
  }
 },
 "nbformat": 4,
 "nbformat_minor": 4
}
